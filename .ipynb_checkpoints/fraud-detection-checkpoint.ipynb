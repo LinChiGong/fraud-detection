{
 "cells": [
  {
   "cell_type": "code",
   "execution_count": 1,
   "metadata": {
    "collapsed": false
   },
   "outputs": [],
   "source": [
    "import numpy as np\n",
    "import pandas as pd\n",
    "import pprint as pp\n",
    "from collections import Counter\n",
    "\n",
    "from sklearn.model_selection import train_test_split\n",
    "from sklearn.ensemble import RandomForestClassifier\n",
    "from sklearn.linear_model import LogisticRegression\n",
    "from sklearn.model_selection import cross_val_score\n",
    "\n",
    "from imblearn.over_sampling import RandomOverSampler\n",
    "\n",
    "from statsmodels.api import Logit\n",
    "from statsmodels.tools.tools import add_constant\n",
    "\n",
    "from bs4 import BeautifulSoup"
   ]
  },
  {
   "cell_type": "code",
   "execution_count": 2,
   "metadata": {
    "collapsed": false
   },
   "outputs": [],
   "source": [
    "'''\n",
    "Read file into dataframe.\n",
    "Check all information of the data.\n",
    "'''\n",
    "df = pd.read_json('data.json')"
   ]
  },
  {
   "cell_type": "code",
   "execution_count": 3,
   "metadata": {
    "collapsed": false
   },
   "outputs": [
    {
     "data": {
      "text/plain": [
       "(14337, 44)"
      ]
     },
     "execution_count": 3,
     "metadata": {},
     "output_type": "execute_result"
    }
   ],
   "source": [
    "df.shape"
   ]
  },
  {
   "cell_type": "code",
   "execution_count": 4,
   "metadata": {
    "collapsed": false
   },
   "outputs": [
    {
     "name": "stdout",
     "output_type": "stream",
     "text": [
      "<class 'pandas.core.frame.DataFrame'>\n",
      "Int64Index: 14337 entries, 0 to 14336\n",
      "Data columns (total 44 columns):\n",
      "acct_type             14337 non-null object\n",
      "approx_payout_date    14337 non-null int64\n",
      "body_length           14337 non-null int64\n",
      "channels              14337 non-null int64\n",
      "country               14256 non-null object\n",
      "currency              14337 non-null object\n",
      "delivery_method       14321 non-null float64\n",
      "description           14337 non-null object\n",
      "email_domain          14337 non-null object\n",
      "event_created         14337 non-null int64\n",
      "event_end             14337 non-null int64\n",
      "event_published       14238 non-null float64\n",
      "event_start           14337 non-null int64\n",
      "fb_published          14337 non-null int64\n",
      "gts                   14337 non-null float64\n",
      "has_analytics         14337 non-null int64\n",
      "has_header            8928 non-null float64\n",
      "has_logo              14337 non-null int64\n",
      "listed                14337 non-null object\n",
      "name                  14337 non-null object\n",
      "name_length           14337 non-null int64\n",
      "num_order             14337 non-null int64\n",
      "num_payouts           14337 non-null int64\n",
      "object_id             14337 non-null int64\n",
      "org_desc              14337 non-null object\n",
      "org_facebook          14278 non-null float64\n",
      "org_name              14337 non-null object\n",
      "org_twitter           14278 non-null float64\n",
      "payee_name            14337 non-null object\n",
      "payout_type           14337 non-null object\n",
      "previous_payouts      14337 non-null object\n",
      "sale_duration         14182 non-null float64\n",
      "sale_duration2        14337 non-null int64\n",
      "show_map              14337 non-null int64\n",
      "ticket_types          14337 non-null object\n",
      "user_age              14337 non-null int64\n",
      "user_created          14337 non-null int64\n",
      "user_type             14337 non-null int64\n",
      "venue_address         14337 non-null object\n",
      "venue_country         13261 non-null object\n",
      "venue_latitude        13261 non-null float64\n",
      "venue_longitude       13261 non-null float64\n",
      "venue_name            13261 non-null object\n",
      "venue_state           13261 non-null object\n",
      "dtypes: float64(9), int64(18), object(17)\n",
      "memory usage: 4.9+ MB\n"
     ]
    }
   ],
   "source": [
    "df.info()"
   ]
  },
  {
   "cell_type": "code",
   "execution_count": 5,
   "metadata": {
    "collapsed": false,
    "scrolled": false
   },
   "outputs": [
    {
     "data": {
      "text/html": [
       "<div>\n",
       "<table border=\"1\" class=\"dataframe\">\n",
       "  <thead>\n",
       "    <tr style=\"text-align: right;\">\n",
       "      <th></th>\n",
       "      <th>acct_type</th>\n",
       "      <th>approx_payout_date</th>\n",
       "      <th>body_length</th>\n",
       "      <th>channels</th>\n",
       "      <th>country</th>\n",
       "      <th>currency</th>\n",
       "      <th>delivery_method</th>\n",
       "      <th>description</th>\n",
       "      <th>email_domain</th>\n",
       "      <th>event_created</th>\n",
       "      <th>...</th>\n",
       "      <th>ticket_types</th>\n",
       "      <th>user_age</th>\n",
       "      <th>user_created</th>\n",
       "      <th>user_type</th>\n",
       "      <th>venue_address</th>\n",
       "      <th>venue_country</th>\n",
       "      <th>venue_latitude</th>\n",
       "      <th>venue_longitude</th>\n",
       "      <th>venue_name</th>\n",
       "      <th>venue_state</th>\n",
       "    </tr>\n",
       "  </thead>\n",
       "  <tbody>\n",
       "    <tr>\n",
       "      <th>0</th>\n",
       "      <td>fraudster_event</td>\n",
       "      <td>1266062400</td>\n",
       "      <td>3852</td>\n",
       "      <td>5</td>\n",
       "      <td>US</td>\n",
       "      <td>USD</td>\n",
       "      <td>0.0</td>\n",
       "      <td>&lt;p&gt;&lt;a href=\"http://s432.photobucket.com/albums...</td>\n",
       "      <td>gmail.com</td>\n",
       "      <td>1262739706</td>\n",
       "      <td>...</td>\n",
       "      <td>[{u'event_id': 527017, u'cost': 25.0, u'availa...</td>\n",
       "      <td>36</td>\n",
       "      <td>1259613950</td>\n",
       "      <td>1</td>\n",
       "      <td>717 Washington Avenue</td>\n",
       "      <td>US</td>\n",
       "      <td>25.777471</td>\n",
       "      <td>-80.133433</td>\n",
       "      <td>INK Nightclub - South Beach</td>\n",
       "      <td>FL</td>\n",
       "    </tr>\n",
       "    <tr>\n",
       "      <th>1</th>\n",
       "      <td>premium</td>\n",
       "      <td>1296720000</td>\n",
       "      <td>3499</td>\n",
       "      <td>0</td>\n",
       "      <td>US</td>\n",
       "      <td>USD</td>\n",
       "      <td>1.0</td>\n",
       "      <td>&lt;p&gt;Join us for a quick, one-night, community-b...</td>\n",
       "      <td>ruf.org</td>\n",
       "      <td>1293832670</td>\n",
       "      <td>...</td>\n",
       "      <td>[{u'event_id': 786878, u'cost': 35.0, u'availa...</td>\n",
       "      <td>149</td>\n",
       "      <td>1280942776</td>\n",
       "      <td>3</td>\n",
       "      <td></td>\n",
       "      <td>US</td>\n",
       "      <td>32.776566</td>\n",
       "      <td>-79.930922</td>\n",
       "      <td>The Charleston, SC area</td>\n",
       "      <td>SC</td>\n",
       "    </tr>\n",
       "    <tr>\n",
       "      <th>2</th>\n",
       "      <td>premium</td>\n",
       "      <td>1296172800</td>\n",
       "      <td>2601</td>\n",
       "      <td>8</td>\n",
       "      <td>US</td>\n",
       "      <td>USD</td>\n",
       "      <td>1.0</td>\n",
       "      <td>&lt;h3&gt;&lt;span class=\"subcategory\"&gt;&lt;strong&gt;Teacher ...</td>\n",
       "      <td>pvsd.k12.ca.us</td>\n",
       "      <td>1291090956</td>\n",
       "      <td>...</td>\n",
       "      <td>[{u'event_id': 787337, u'cost': 93.51, u'avail...</td>\n",
       "      <td>214</td>\n",
       "      <td>1272559388</td>\n",
       "      <td>3</td>\n",
       "      <td>10100 Pioneer Blvd Suite 100</td>\n",
       "      <td>US</td>\n",
       "      <td>33.944201</td>\n",
       "      <td>-118.080419</td>\n",
       "      <td>Los Angeles County Office of Education</td>\n",
       "      <td>CA</td>\n",
       "    </tr>\n",
       "    <tr>\n",
       "      <th>3</th>\n",
       "      <td>premium</td>\n",
       "      <td>1388966400</td>\n",
       "      <td>12347</td>\n",
       "      <td>6</td>\n",
       "      <td>IE</td>\n",
       "      <td>EUR</td>\n",
       "      <td>1.0</td>\n",
       "      <td>&lt;p style=\"margin-bottom: 1.3em; padding-bottom...</td>\n",
       "      <td>irishtabletennis.com</td>\n",
       "      <td>1360681570</td>\n",
       "      <td>...</td>\n",
       "      <td>[{u'event_id': 885645, u'cost': 25.0, u'availa...</td>\n",
       "      <td>889</td>\n",
       "      <td>1283870102</td>\n",
       "      <td>3</td>\n",
       "      <td></td>\n",
       "      <td>None</td>\n",
       "      <td>NaN</td>\n",
       "      <td>NaN</td>\n",
       "      <td>None</td>\n",
       "      <td>None</td>\n",
       "    </tr>\n",
       "    <tr>\n",
       "      <th>4</th>\n",
       "      <td>premium</td>\n",
       "      <td>1297900800</td>\n",
       "      <td>2417</td>\n",
       "      <td>11</td>\n",
       "      <td>US</td>\n",
       "      <td>USD</td>\n",
       "      <td>0.0</td>\n",
       "      <td>&lt;p&gt;Writers and filmmakers need to understand t...</td>\n",
       "      <td>artsandbusinesscouncil.org</td>\n",
       "      <td>1291994666</td>\n",
       "      <td>...</td>\n",
       "      <td>[{u'event_id': 1114349, u'cost': 150.0, u'avai...</td>\n",
       "      <td>35</td>\n",
       "      <td>1288984065</td>\n",
       "      <td>3</td>\n",
       "      <td>One Marina Park Drive</td>\n",
       "      <td>US</td>\n",
       "      <td>42.353848</td>\n",
       "      <td>-71.044276</td>\n",
       "      <td>Fish &amp; Richardson</td>\n",
       "      <td>MA</td>\n",
       "    </tr>\n",
       "  </tbody>\n",
       "</table>\n",
       "<p>5 rows × 44 columns</p>\n",
       "</div>"
      ],
      "text/plain": [
       "         acct_type  approx_payout_date  body_length  channels country  \\\n",
       "0  fraudster_event          1266062400         3852         5      US   \n",
       "1          premium          1296720000         3499         0      US   \n",
       "2          premium          1296172800         2601         8      US   \n",
       "3          premium          1388966400        12347         6      IE   \n",
       "4          premium          1297900800         2417        11      US   \n",
       "\n",
       "  currency  delivery_method  \\\n",
       "0      USD              0.0   \n",
       "1      USD              1.0   \n",
       "2      USD              1.0   \n",
       "3      EUR              1.0   \n",
       "4      USD              0.0   \n",
       "\n",
       "                                         description  \\\n",
       "0  <p><a href=\"http://s432.photobucket.com/albums...   \n",
       "1  <p>Join us for a quick, one-night, community-b...   \n",
       "2  <h3><span class=\"subcategory\"><strong>Teacher ...   \n",
       "3  <p style=\"margin-bottom: 1.3em; padding-bottom...   \n",
       "4  <p>Writers and filmmakers need to understand t...   \n",
       "\n",
       "                 email_domain  event_created     ...      \\\n",
       "0                   gmail.com     1262739706     ...       \n",
       "1                     ruf.org     1293832670     ...       \n",
       "2              pvsd.k12.ca.us     1291090956     ...       \n",
       "3        irishtabletennis.com     1360681570     ...       \n",
       "4  artsandbusinesscouncil.org     1291994666     ...       \n",
       "\n",
       "                                        ticket_types  user_age  user_created  \\\n",
       "0  [{u'event_id': 527017, u'cost': 25.0, u'availa...        36    1259613950   \n",
       "1  [{u'event_id': 786878, u'cost': 35.0, u'availa...       149    1280942776   \n",
       "2  [{u'event_id': 787337, u'cost': 93.51, u'avail...       214    1272559388   \n",
       "3  [{u'event_id': 885645, u'cost': 25.0, u'availa...       889    1283870102   \n",
       "4  [{u'event_id': 1114349, u'cost': 150.0, u'avai...        35    1288984065   \n",
       "\n",
       "   user_type                 venue_address  venue_country  venue_latitude  \\\n",
       "0          1         717 Washington Avenue             US       25.777471   \n",
       "1          3                                           US       32.776566   \n",
       "2          3  10100 Pioneer Blvd Suite 100             US       33.944201   \n",
       "3          3                                         None             NaN   \n",
       "4          3        One Marina Park Drive              US       42.353848   \n",
       "\n",
       "   venue_longitude                              venue_name venue_state  \n",
       "0       -80.133433             INK Nightclub - South Beach          FL  \n",
       "1       -79.930922                 The Charleston, SC area          SC  \n",
       "2      -118.080419  Los Angeles County Office of Education          CA  \n",
       "3              NaN                                    None        None  \n",
       "4       -71.044276                       Fish & Richardson          MA  \n",
       "\n",
       "[5 rows x 44 columns]"
      ]
     },
     "execution_count": 5,
     "metadata": {},
     "output_type": "execute_result"
    }
   ],
   "source": [
    "df.head()"
   ]
  },
  {
   "cell_type": "code",
   "execution_count": 6,
   "metadata": {
    "collapsed": false
   },
   "outputs": [
    {
     "data": {
      "text/plain": [
       "array([u'fraudster_event', u'premium', u'spammer_warn', u'fraudster',\n",
       "       u'spammer_limited', u'spammer_noinvite', u'locked', u'tos_lock',\n",
       "       u'tos_warn', u'fraudster_att', u'spammer_web', u'spammer'], dtype=object)"
      ]
     },
     "execution_count": 6,
     "metadata": {},
     "output_type": "execute_result"
    }
   ],
   "source": [
    "df.acct_type.unique()"
   ]
  },
  {
   "cell_type": "code",
   "execution_count": 7,
   "metadata": {
    "collapsed": false
   },
   "outputs": [
    {
     "name": "stdout",
     "output_type": "stream",
     "text": [
      "u'<p><a href=\"http://s432.photobucket.com/albums/qq49/digusonline/?action=view&amp;current=supersunday.jpg\" target=\"_blank\"><img src=\"http://i432.photobucket.com/albums/qq49/digusonline/supersunday.jpg\" border=\"0\" alt=\"Photobucket\" /></a></p>\\r\\n<p>\\xa0</p>\\r\\n<p style=\"text-align: center;\"><font size=\"3\"><strong>Party Starz Entertaintment &amp; Diverse International Group Presents...<br /></strong></font><br /><font face=\"tahoma,arial,helvetica,sans-serif\" size=\"4\"><strong>The Official\\xa0\"99 Hour No Sleep\" Super Bowl </strong></font></p>\\r\\n<p style=\"text-align: center;\"><font face=\"tahoma,arial,helvetica,sans-serif\" size=\"4\"><strong>Weekend </strong></font><font face=\"tahoma,arial,helvetica,sans-serif\" size=\"4\"><strong>Grand Finale</strong></font></p>\\r\\n<p><br /><span style=\"font-family: Times New Roman,serif;\"><font size=\"3\"><font face=\"tahoma,arial,helvetica,sans-serif\">No matter who wins or loses, this post-game party cannot be missed! Enjoy the drink specials and all night music!<strong>\\xa0</strong></font></font><span style=\"font-family: Times New Roman,serif;\"><font face=\"tahoma,arial,helvetica,sans-serif\" size=\"3\">The ultimate \"99 No Sleep\"\\xa0Super Bowl Weekend Grand Finale! Sunday, February 7th, 2010 @ Ink Nightclub-South Beach (717 Washington Ave, Miami Bch, FL 33139).</font></span></span></p>\\r\\n<p><span style=\"font-family: Times New Roman,serif;\"><span style=\"font-family: Times New Roman,serif;\"><font face=\"tahoma,arial,helvetica,sans-serif\" size=\"3\">Hosted by 99 Jamz with special appearances by Fast Life Youngstaz. Special invited guests: Billy Blue, Dorrough and Brisco and with performances by various artist\\'s and many many more at South Beach\\xa0Miami\\'s finest venue! This is a party you have to see to believe! This is everyone\\'s last chance to make that impression, so don\\'t\\xa0half-step, bring your \"A\" game\\xa0and party with\\xa0all of the hottest artists, celebrities, models and superstar athletes that are guaranteed to be in the building!</font></span></span></p>\\r\\n<p><span style=\"font-family: Times New Roman,serif;\"><font size=\"3\"><span style=\"font-family: Times New Roman,serif;\"><font face=\"tahoma,arial,helvetica,sans-serif\">DJ Q &amp; DJ Slym will ber keepig the party jumping til the sun comes up with the hottest Hip-Hop, R&amp;B, Reggae, Old School and more. </font></span></font></span></p>\\r\\n<p><span style=\"font-family: Times New Roman,serif;\"><font size=\"3\"><span style=\"font-family: Times New Roman,serif;\"><font face=\"tahoma,arial,helvetica,sans-serif\">Doors open @ 10pm. Ladies are 18+ and 21+ for Gents. 2-4-1 drinks until 1am, plus the best bottle specials ALL NIGHT LONG!!! We\\'re offering\\xa0Super Bowl game ticket stub discounts all night!</font></span></font></span></p>\\r\\n<p><span style=\"font-family: Times New Roman,serif;\"><font size=\"3\"><span style=\"font-family: Times New Roman,serif;\"><font face=\"tahoma,arial,helvetica,sans-serif\">Dress code is\\xa0enforced, but it\\'s not what you wear but how you wear it!\\xa0All-Night Drink Specials! For more information\\xa0&amp; table reservations email</font></span></font></span><span style=\"font-family: Times New Roman,serif;\"><font size=\"3\"><span style=\"font-family: Times New Roman,serif;\"><font face=\"tahoma,arial,helvetica,sans-serif\">: <a href=\"mailto:99hrnosleepweekend@gmail.com\">99hrnosleepweekend@gmail.com</a> or 305.742.4880.</font></span></font></span></p>\\r\\n<p><span style=\"font-family: Times New Roman,serif;\"></span></p>\\r\\n<p>\\xa0</p>\\r\\n<p style=\"text-align: center;\"><span style=\"font-family: Times New Roman,serif;\"><font size=\"3\"><span style=\"font-family: Times New Roman,serif;\"><font face=\"tahoma,arial,helvetica,sans-serif\">This is a 99 Hour No Sleep Celebrity Super Bowl Weekend event! <a \\r\\n<p>\\xa0</p>'\n"
     ]
    }
   ],
   "source": [
    "'''\n",
    "Each transaction has a description.\n",
    "Try print the description of our first transaction.\n",
    "'''\n",
    "pp.pprint(df.description[0])"
   ]
  },
  {
   "cell_type": "code",
   "execution_count": 8,
   "metadata": {
    "collapsed": false
   },
   "outputs": [
    {
     "data": {
      "text/plain": [
       "dtype('float64')"
      ]
     },
     "execution_count": 8,
     "metadata": {},
     "output_type": "execute_result"
    }
   ],
   "source": [
    "df['has_header'].dtypes"
   ]
  },
  {
   "cell_type": "code",
   "execution_count": 9,
   "metadata": {
    "collapsed": false
   },
   "outputs": [],
   "source": [
    "'''\n",
    "Focus on columns with numerical values.\n",
    "'''\n",
    "num = [col for col in df.columns if str(df[col].dtypes) in ['int64','float64']]"
   ]
  },
  {
   "cell_type": "code",
   "execution_count": 10,
   "metadata": {
    "collapsed": false,
    "scrolled": true
   },
   "outputs": [
    {
     "data": {
      "text/plain": [
       "[u'approx_payout_date',\n",
       " u'body_length',\n",
       " u'channels',\n",
       " u'delivery_method',\n",
       " u'event_created',\n",
       " u'event_end',\n",
       " u'event_published',\n",
       " u'event_start',\n",
       " u'fb_published',\n",
       " u'gts',\n",
       " u'has_analytics',\n",
       " u'has_header',\n",
       " u'has_logo',\n",
       " u'name_length',\n",
       " u'num_order',\n",
       " u'num_payouts',\n",
       " u'object_id',\n",
       " u'org_facebook',\n",
       " u'org_twitter',\n",
       " u'sale_duration',\n",
       " u'sale_duration2',\n",
       " u'show_map',\n",
       " u'user_age',\n",
       " u'user_created',\n",
       " u'user_type',\n",
       " u'venue_latitude',\n",
       " u'venue_longitude']"
      ]
     },
     "execution_count": 10,
     "metadata": {},
     "output_type": "execute_result"
    }
   ],
   "source": [
    "num"
   ]
  },
  {
   "cell_type": "code",
   "execution_count": 11,
   "metadata": {
    "collapsed": true
   },
   "outputs": [],
   "source": [
    "'''\n",
    "Create a label column that has boolean values for whether an action is fraud or not.\n",
    "'''\n",
    "ndf = df"
   ]
  },
  {
   "cell_type": "code",
   "execution_count": 12,
   "metadata": {
    "collapsed": true
   },
   "outputs": [],
   "source": [
    "ndf['label'] = ndf.acct_type.apply(lambda x: 1 if x in ['fraudster_event','fraudster','fraudster_att'] else 0)"
   ]
  },
  {
   "cell_type": "code",
   "execution_count": 14,
   "metadata": {
    "collapsed": true
   },
   "outputs": [],
   "source": [
    "'''\n",
    "Split the data into training set and testing set.\n",
    "Then oversample the fraud cases because this is a VERY unbalanced dataset.\n",
    "'''\n",
    "X_train, X_test, y_train, y_test = train_test_split(ndf[num], ndf['label'])"
   ]
  },
  {
   "cell_type": "code",
   "execution_count": 23,
   "metadata": {
    "collapsed": true
   },
   "outputs": [],
   "source": [
    "X_train = X_train.fillna(0)\n",
    "X_test = X_test.fillna(0)"
   ]
  },
  {
   "cell_type": "code",
   "execution_count": 16,
   "metadata": {
    "collapsed": false
   },
   "outputs": [],
   "source": [
    "ros = RandomOverSampler(random_state=42)\n",
    "X_ros, y_ros = ros.fit_sample(X_train, y_train)"
   ]
  },
  {
   "cell_type": "code",
   "execution_count": 17,
   "metadata": {
    "collapsed": false
   },
   "outputs": [
    {
     "data": {
      "text/plain": [
       "0.5"
      ]
     },
     "execution_count": 17,
     "metadata": {},
     "output_type": "execute_result"
    }
   ],
   "source": [
    "y_ros.mean()\n",
    "# Now balanced"
   ]
  },
  {
   "cell_type": "code",
   "execution_count": 18,
   "metadata": {
    "collapsed": false,
    "scrolled": true
   },
   "outputs": [
    {
     "name": "stdout",
     "output_type": "stream",
     "text": [
      "(19574, 27) (19574,)\n"
     ]
    }
   ],
   "source": [
    "print X_ros.shape, y_ros.shape"
   ]
  },
  {
   "cell_type": "code",
   "execution_count": 19,
   "metadata": {
    "collapsed": true
   },
   "outputs": [],
   "source": [
    "X_ros = pd.DataFrame(X_ros, columns = X_train.columns)"
   ]
  },
  {
   "cell_type": "code",
   "execution_count": 20,
   "metadata": {
    "collapsed": false
   },
   "outputs": [],
   "source": [
    "'''\n",
    "Build a random forest classifier model.\n",
    "'''\n",
    "model = RandomForestClassifier()"
   ]
  },
  {
   "cell_type": "code",
   "execution_count": 24,
   "metadata": {
    "collapsed": false,
    "scrolled": true
   },
   "outputs": [
    {
     "data": {
      "text/plain": [
       "array([ 0.96822742,  0.96401674,  0.96314908])"
      ]
     },
     "execution_count": 24,
     "metadata": {},
     "output_type": "execute_result"
    }
   ],
   "source": [
    "model.fit(X_ros, y_ros)\n",
    "cross_val_score(model, X_test, y_test)"
   ]
  },
  {
   "cell_type": "code",
   "execution_count": 25,
   "metadata": {
    "collapsed": false
   },
   "outputs": [
    {
     "data": {
      "text/plain": [
       "array([ 0.81339713,  0.75789474,  0.8       ])"
      ]
     },
     "execution_count": 25,
     "metadata": {},
     "output_type": "execute_result"
    }
   ],
   "source": [
    "cross_val_score(model, X_test, y_test, scoring='f1')"
   ]
  },
  {
   "cell_type": "code",
   "execution_count": 26,
   "metadata": {
    "collapsed": false
   },
   "outputs": [
    {
     "data": {
      "text/plain": [
       "array([ 0.88764045,  0.82795699,  0.96103896])"
      ]
     },
     "execution_count": 26,
     "metadata": {},
     "output_type": "execute_result"
    }
   ],
   "source": [
    "cross_val_score(model, X_test, y_test, scoring='precision')"
   ]
  },
  {
   "cell_type": "code",
   "execution_count": 27,
   "metadata": {
    "collapsed": false
   },
   "outputs": [
    {
     "data": {
      "text/plain": [
       "array([ 0.74545455,  0.71559633,  0.66972477])"
      ]
     },
     "execution_count": 27,
     "metadata": {},
     "output_type": "execute_result"
    }
   ],
   "source": [
    "cross_val_score(model, X_test, y_test, scoring='recall')"
   ]
  },
  {
   "cell_type": "code",
   "execution_count": null,
   "metadata": {
    "collapsed": true
   },
   "outputs": [],
   "source": [
    "# Random forest model has really good accuracy score!\n",
    "# But recall score is not so good"
   ]
  },
  {
   "cell_type": "code",
   "execution_count": 28,
   "metadata": {
    "collapsed": true
   },
   "outputs": [],
   "source": [
    "'''\n",
    "Now try a logistic regression model.\n",
    "'''\n",
    "log = LogisticRegression()"
   ]
  },
  {
   "cell_type": "code",
   "execution_count": 29,
   "metadata": {
    "collapsed": false
   },
   "outputs": [
    {
     "name": "stdout",
     "output_type": "stream",
     "text": [
      "Accuracy: [ 0.91889632  0.91129707  0.91708543]\n",
      "f1: [ 0.23622047  0.11666667  0.16806723]\n",
      "Precision: [ 0.88235294  0.63636364  1.        ]\n",
      "Recall: [ 0.13636364  0.06422018  0.09174312]\n"
     ]
    }
   ],
   "source": [
    "log.fit(X_ros, y_ros)\n",
    "print 'Accuracy:', cross_val_score(log, X_test, y_test)\n",
    "print 'f1:', cross_val_score(log, X_test, y_test, scoring='f1')\n",
    "print 'Precision:', cross_val_score(log, X_test, y_test, scoring='precision')\n",
    "print 'Recall:', cross_val_score(log, X_test, y_test, scoring='recall')"
   ]
  },
  {
   "cell_type": "code",
   "execution_count": null,
   "metadata": {
    "collapsed": true
   },
   "outputs": [],
   "source": [
    "# Logistic regression model with current features is awful"
   ]
  },
  {
   "cell_type": "code",
   "execution_count": 31,
   "metadata": {
    "collapsed": false,
    "scrolled": false
   },
   "outputs": [
    {
     "data": {
      "text/plain": [
       "[(u'sale_duration2', 0.18769256339798449),\n",
       " (u'sale_duration', 0.16602612879137046),\n",
       " (u'user_age', 0.1191321267335446),\n",
       " (u'gts', 0.097864227523428299),\n",
       " (u'num_order', 0.048402431089319513),\n",
       " (u'org_facebook', 0.037301215046494307),\n",
       " (u'body_length', 0.030158957200319143),\n",
       " (u'num_payouts', 0.02894737200055526),\n",
       " (u'name_length', 0.028554882200383463),\n",
       " (u'venue_longitude', 0.025594649661269165),\n",
       " (u'delivery_method', 0.025167632719196014),\n",
       " (u'event_published', 0.024787095792643203),\n",
       " (u'user_created', 0.024449636240561196),\n",
       " (u'venue_latitude', 0.024017021039345329),\n",
       " (u'user_type', 0.022074270581711825),\n",
       " (u'org_twitter', 0.020299407692757419),\n",
       " (u'object_id', 0.015927775804413485),\n",
       " (u'approx_payout_date', 0.015518712752445535),\n",
       " (u'event_start', 0.014993235992162285),\n",
       " (u'event_created', 0.013583042884630516),\n",
       " (u'event_end', 0.010774187833102297),\n",
       " (u'channels', 0.008224097475975186),\n",
       " (u'has_logo', 0.0053879890540278535),\n",
       " (u'has_header', 0.0018294456750781597),\n",
       " (u'show_map', 0.001755523951642464),\n",
       " (u'fb_published', 0.00091753624238770349),\n",
       " (u'has_analytics', 0.00061883462325082374)]"
      ]
     },
     "execution_count": 31,
     "metadata": {},
     "output_type": "execute_result"
    }
   ],
   "source": [
    "'''\n",
    "Look at feature importance from our random forest model.\n",
    "'''\n",
    "feat = model.fit(X_ros, y_ros).feature_importances_\n",
    "sorted(zip(X_train.columns, feat), key= lambda x: x[1])[::-1]"
   ]
  },
  {
   "cell_type": "code",
   "execution_count": null,
   "metadata": {
    "collapsed": true
   },
   "outputs": [],
   "source": [
    "# Top features are: Transaction duration, user age, gts, number of orders, and org facebook "
   ]
  },
  {
   "cell_type": "code",
   "execution_count": 34,
   "metadata": {
    "collapsed": false
   },
   "outputs": [
    {
     "data": {
      "text/html": [
       "<div>\n",
       "<table border=\"1\" class=\"dataframe\">\n",
       "  <thead>\n",
       "    <tr style=\"text-align: right;\">\n",
       "      <th></th>\n",
       "      <th>count</th>\n",
       "      <th>mean</th>\n",
       "      <th>std</th>\n",
       "      <th>min</th>\n",
       "      <th>25%</th>\n",
       "      <th>50%</th>\n",
       "      <th>75%</th>\n",
       "      <th>max</th>\n",
       "    </tr>\n",
       "  </thead>\n",
       "  <tbody>\n",
       "    <tr>\n",
       "      <th>approx_payout_date</th>\n",
       "      <td>14337.0</td>\n",
       "      <td>1.350933e+09</td>\n",
       "      <td>2.401300e+07</td>\n",
       "      <td>1.171256e+09</td>\n",
       "      <td>1.334221e+09</td>\n",
       "      <td>1.355805e+09</td>\n",
       "      <td>1.370646e+09</td>\n",
       "      <td>1.523488e+09</td>\n",
       "    </tr>\n",
       "    <tr>\n",
       "      <th>body_length</th>\n",
       "      <td>14337.0</td>\n",
       "      <td>3.672522e+03</td>\n",
       "      <td>5.758113e+03</td>\n",
       "      <td>0.000000e+00</td>\n",
       "      <td>7.500000e+02</td>\n",
       "      <td>1.990000e+03</td>\n",
       "      <td>4.280000e+03</td>\n",
       "      <td>6.553500e+04</td>\n",
       "    </tr>\n",
       "    <tr>\n",
       "      <th>channels</th>\n",
       "      <td>14337.0</td>\n",
       "      <td>6.176676e+00</td>\n",
       "      <td>3.860333e+00</td>\n",
       "      <td>0.000000e+00</td>\n",
       "      <td>5.000000e+00</td>\n",
       "      <td>6.000000e+00</td>\n",
       "      <td>8.000000e+00</td>\n",
       "      <td>1.300000e+01</td>\n",
       "    </tr>\n",
       "    <tr>\n",
       "      <th>delivery_method</th>\n",
       "      <td>14321.0</td>\n",
       "      <td>4.395643e-01</td>\n",
       "      <td>5.914866e-01</td>\n",
       "      <td>0.000000e+00</td>\n",
       "      <td>0.000000e+00</td>\n",
       "      <td>0.000000e+00</td>\n",
       "      <td>1.000000e+00</td>\n",
       "      <td>3.000000e+00</td>\n",
       "    </tr>\n",
       "    <tr>\n",
       "      <th>event_created</th>\n",
       "      <td>14337.0</td>\n",
       "      <td>1.345825e+09</td>\n",
       "      <td>2.404107e+07</td>\n",
       "      <td>1.170332e+09</td>\n",
       "      <td>1.329754e+09</td>\n",
       "      <td>1.351043e+09</td>\n",
       "      <td>1.365346e+09</td>\n",
       "      <td>1.382012e+09</td>\n",
       "    </tr>\n",
       "    <tr>\n",
       "      <th>event_end</th>\n",
       "      <td>14337.0</td>\n",
       "      <td>1.350501e+09</td>\n",
       "      <td>2.401299e+07</td>\n",
       "      <td>1.170824e+09</td>\n",
       "      <td>1.333789e+09</td>\n",
       "      <td>1.355373e+09</td>\n",
       "      <td>1.370214e+09</td>\n",
       "      <td>1.523056e+09</td>\n",
       "    </tr>\n",
       "    <tr>\n",
       "      <th>event_published</th>\n",
       "      <td>14238.0</td>\n",
       "      <td>1.340854e+09</td>\n",
       "      <td>8.750386e+07</td>\n",
       "      <td>0.000000e+00</td>\n",
       "      <td>1.329499e+09</td>\n",
       "      <td>1.351099e+09</td>\n",
       "      <td>1.365478e+09</td>\n",
       "      <td>1.381608e+09</td>\n",
       "    </tr>\n",
       "    <tr>\n",
       "      <th>event_start</th>\n",
       "      <td>14337.0</td>\n",
       "      <td>1.350205e+09</td>\n",
       "      <td>2.398787e+07</td>\n",
       "      <td>1.170819e+09</td>\n",
       "      <td>1.333406e+09</td>\n",
       "      <td>1.355000e+09</td>\n",
       "      <td>1.370048e+09</td>\n",
       "      <td>1.418850e+09</td>\n",
       "    </tr>\n",
       "    <tr>\n",
       "      <th>fb_published</th>\n",
       "      <td>14337.0</td>\n",
       "      <td>1.274325e-01</td>\n",
       "      <td>3.334685e-01</td>\n",
       "      <td>0.000000e+00</td>\n",
       "      <td>0.000000e+00</td>\n",
       "      <td>0.000000e+00</td>\n",
       "      <td>0.000000e+00</td>\n",
       "      <td>1.000000e+00</td>\n",
       "    </tr>\n",
       "    <tr>\n",
       "      <th>gts</th>\n",
       "      <td>14337.0</td>\n",
       "      <td>2.430231e+03</td>\n",
       "      <td>9.142308e+03</td>\n",
       "      <td>0.000000e+00</td>\n",
       "      <td>1.164100e+02</td>\n",
       "      <td>4.319300e+02</td>\n",
       "      <td>1.547260e+03</td>\n",
       "      <td>3.062939e+05</td>\n",
       "    </tr>\n",
       "    <tr>\n",
       "      <th>has_analytics</th>\n",
       "      <td>14337.0</td>\n",
       "      <td>7.302783e-02</td>\n",
       "      <td>2.601913e-01</td>\n",
       "      <td>0.000000e+00</td>\n",
       "      <td>0.000000e+00</td>\n",
       "      <td>0.000000e+00</td>\n",
       "      <td>0.000000e+00</td>\n",
       "      <td>1.000000e+00</td>\n",
       "    </tr>\n",
       "    <tr>\n",
       "      <th>has_header</th>\n",
       "      <td>8928.0</td>\n",
       "      <td>2.020609e-01</td>\n",
       "      <td>4.015599e-01</td>\n",
       "      <td>0.000000e+00</td>\n",
       "      <td>0.000000e+00</td>\n",
       "      <td>0.000000e+00</td>\n",
       "      <td>0.000000e+00</td>\n",
       "      <td>1.000000e+00</td>\n",
       "    </tr>\n",
       "    <tr>\n",
       "      <th>has_logo</th>\n",
       "      <td>14337.0</td>\n",
       "      <td>8.420869e-01</td>\n",
       "      <td>3.646722e-01</td>\n",
       "      <td>0.000000e+00</td>\n",
       "      <td>1.000000e+00</td>\n",
       "      <td>1.000000e+00</td>\n",
       "      <td>1.000000e+00</td>\n",
       "      <td>1.000000e+00</td>\n",
       "    </tr>\n",
       "    <tr>\n",
       "      <th>name_length</th>\n",
       "      <td>14337.0</td>\n",
       "      <td>4.162935e+01</td>\n",
       "      <td>2.315810e+01</td>\n",
       "      <td>0.000000e+00</td>\n",
       "      <td>2.600000e+01</td>\n",
       "      <td>3.800000e+01</td>\n",
       "      <td>5.300000e+01</td>\n",
       "      <td>2.540000e+02</td>\n",
       "    </tr>\n",
       "    <tr>\n",
       "      <th>num_order</th>\n",
       "      <td>14337.0</td>\n",
       "      <td>2.801067e+01</td>\n",
       "      <td>9.476968e+01</td>\n",
       "      <td>0.000000e+00</td>\n",
       "      <td>2.000000e+00</td>\n",
       "      <td>8.000000e+00</td>\n",
       "      <td>2.300000e+01</td>\n",
       "      <td>2.000000e+03</td>\n",
       "    </tr>\n",
       "    <tr>\n",
       "      <th>num_payouts</th>\n",
       "      <td>14337.0</td>\n",
       "      <td>3.375330e+01</td>\n",
       "      <td>1.251789e+02</td>\n",
       "      <td>0.000000e+00</td>\n",
       "      <td>0.000000e+00</td>\n",
       "      <td>2.000000e+00</td>\n",
       "      <td>1.300000e+01</td>\n",
       "      <td>1.858000e+03</td>\n",
       "    </tr>\n",
       "    <tr>\n",
       "      <th>object_id</th>\n",
       "      <td>14337.0</td>\n",
       "      <td>4.531344e+06</td>\n",
       "      <td>1.987661e+06</td>\n",
       "      <td>4.714600e+04</td>\n",
       "      <td>2.902989e+06</td>\n",
       "      <td>4.580386e+06</td>\n",
       "      <td>6.073577e+06</td>\n",
       "      <td>8.792893e+06</td>\n",
       "    </tr>\n",
       "    <tr>\n",
       "      <th>org_facebook</th>\n",
       "      <td>14278.0</td>\n",
       "      <td>7.974436e+00</td>\n",
       "      <td>1.176124e+01</td>\n",
       "      <td>0.000000e+00</td>\n",
       "      <td>0.000000e+00</td>\n",
       "      <td>0.000000e+00</td>\n",
       "      <td>1.400000e+01</td>\n",
       "      <td>9.100000e+01</td>\n",
       "    </tr>\n",
       "    <tr>\n",
       "      <th>org_twitter</th>\n",
       "      <td>14278.0</td>\n",
       "      <td>4.306976e+00</td>\n",
       "      <td>6.011520e+00</td>\n",
       "      <td>0.000000e+00</td>\n",
       "      <td>0.000000e+00</td>\n",
       "      <td>0.000000e+00</td>\n",
       "      <td>1.100000e+01</td>\n",
       "      <td>3.400000e+01</td>\n",
       "    </tr>\n",
       "    <tr>\n",
       "      <th>sale_duration</th>\n",
       "      <td>14182.0</td>\n",
       "      <td>4.686969e+01</td>\n",
       "      <td>5.482525e+01</td>\n",
       "      <td>-1.094000e+03</td>\n",
       "      <td>1.600000e+01</td>\n",
       "      <td>3.200000e+01</td>\n",
       "      <td>5.900000e+01</td>\n",
       "      <td>9.800000e+02</td>\n",
       "    </tr>\n",
       "    <tr>\n",
       "      <th>sale_duration2</th>\n",
       "      <td>14337.0</td>\n",
       "      <td>5.057676e+01</td>\n",
       "      <td>5.967809e+01</td>\n",
       "      <td>-1.094000e+03</td>\n",
       "      <td>1.700000e+01</td>\n",
       "      <td>3.500000e+01</td>\n",
       "      <td>6.300000e+01</td>\n",
       "      <td>9.800000e+02</td>\n",
       "    </tr>\n",
       "    <tr>\n",
       "      <th>show_map</th>\n",
       "      <td>14337.0</td>\n",
       "      <td>8.441794e-01</td>\n",
       "      <td>3.626978e-01</td>\n",
       "      <td>0.000000e+00</td>\n",
       "      <td>1.000000e+00</td>\n",
       "      <td>1.000000e+00</td>\n",
       "      <td>1.000000e+00</td>\n",
       "      <td>1.000000e+00</td>\n",
       "    </tr>\n",
       "    <tr>\n",
       "      <th>user_age</th>\n",
       "      <td>14337.0</td>\n",
       "      <td>3.742265e+02</td>\n",
       "      <td>4.185936e+02</td>\n",
       "      <td>0.000000e+00</td>\n",
       "      <td>1.300000e+01</td>\n",
       "      <td>2.420000e+02</td>\n",
       "      <td>6.030000e+02</td>\n",
       "      <td>3.794000e+03</td>\n",
       "    </tr>\n",
       "    <tr>\n",
       "      <th>user_created</th>\n",
       "      <td>14337.0</td>\n",
       "      <td>1.313492e+09</td>\n",
       "      <td>4.152174e+07</td>\n",
       "      <td>1.011210e+09</td>\n",
       "      <td>1.286824e+09</td>\n",
       "      <td>1.316636e+09</td>\n",
       "      <td>1.346790e+09</td>\n",
       "      <td>1.381543e+09</td>\n",
       "    </tr>\n",
       "    <tr>\n",
       "      <th>user_type</th>\n",
       "      <td>14337.0</td>\n",
       "      <td>2.711097e+00</td>\n",
       "      <td>1.606726e+00</td>\n",
       "      <td>1.000000e+00</td>\n",
       "      <td>1.000000e+00</td>\n",
       "      <td>3.000000e+00</td>\n",
       "      <td>3.000000e+00</td>\n",
       "      <td>1.030000e+02</td>\n",
       "    </tr>\n",
       "    <tr>\n",
       "      <th>venue_latitude</th>\n",
       "      <td>13261.0</td>\n",
       "      <td>3.522174e+01</td>\n",
       "      <td>2.020759e+01</td>\n",
       "      <td>-4.504521e+01</td>\n",
       "      <td>3.395934e+01</td>\n",
       "      <td>3.997410e+01</td>\n",
       "      <td>4.485704e+01</td>\n",
       "      <td>6.484402e+01</td>\n",
       "    </tr>\n",
       "    <tr>\n",
       "      <th>venue_longitude</th>\n",
       "      <td>13261.0</td>\n",
       "      <td>-5.949037e+01</td>\n",
       "      <td>6.656903e+01</td>\n",
       "      <td>-1.593902e+02</td>\n",
       "      <td>-9.695783e+01</td>\n",
       "      <td>-7.942558e+01</td>\n",
       "      <td>-3.187449e+00</td>\n",
       "      <td>1.761695e+02</td>\n",
       "    </tr>\n",
       "  </tbody>\n",
       "</table>\n",
       "</div>"
      ],
      "text/plain": [
       "                      count          mean           std           min  \\\n",
       "approx_payout_date  14337.0  1.350933e+09  2.401300e+07  1.171256e+09   \n",
       "body_length         14337.0  3.672522e+03  5.758113e+03  0.000000e+00   \n",
       "channels            14337.0  6.176676e+00  3.860333e+00  0.000000e+00   \n",
       "delivery_method     14321.0  4.395643e-01  5.914866e-01  0.000000e+00   \n",
       "event_created       14337.0  1.345825e+09  2.404107e+07  1.170332e+09   \n",
       "event_end           14337.0  1.350501e+09  2.401299e+07  1.170824e+09   \n",
       "event_published     14238.0  1.340854e+09  8.750386e+07  0.000000e+00   \n",
       "event_start         14337.0  1.350205e+09  2.398787e+07  1.170819e+09   \n",
       "fb_published        14337.0  1.274325e-01  3.334685e-01  0.000000e+00   \n",
       "gts                 14337.0  2.430231e+03  9.142308e+03  0.000000e+00   \n",
       "has_analytics       14337.0  7.302783e-02  2.601913e-01  0.000000e+00   \n",
       "has_header           8928.0  2.020609e-01  4.015599e-01  0.000000e+00   \n",
       "has_logo            14337.0  8.420869e-01  3.646722e-01  0.000000e+00   \n",
       "name_length         14337.0  4.162935e+01  2.315810e+01  0.000000e+00   \n",
       "num_order           14337.0  2.801067e+01  9.476968e+01  0.000000e+00   \n",
       "num_payouts         14337.0  3.375330e+01  1.251789e+02  0.000000e+00   \n",
       "object_id           14337.0  4.531344e+06  1.987661e+06  4.714600e+04   \n",
       "org_facebook        14278.0  7.974436e+00  1.176124e+01  0.000000e+00   \n",
       "org_twitter         14278.0  4.306976e+00  6.011520e+00  0.000000e+00   \n",
       "sale_duration       14182.0  4.686969e+01  5.482525e+01 -1.094000e+03   \n",
       "sale_duration2      14337.0  5.057676e+01  5.967809e+01 -1.094000e+03   \n",
       "show_map            14337.0  8.441794e-01  3.626978e-01  0.000000e+00   \n",
       "user_age            14337.0  3.742265e+02  4.185936e+02  0.000000e+00   \n",
       "user_created        14337.0  1.313492e+09  4.152174e+07  1.011210e+09   \n",
       "user_type           14337.0  2.711097e+00  1.606726e+00  1.000000e+00   \n",
       "venue_latitude      13261.0  3.522174e+01  2.020759e+01 -4.504521e+01   \n",
       "venue_longitude     13261.0 -5.949037e+01  6.656903e+01 -1.593902e+02   \n",
       "\n",
       "                             25%           50%           75%           max  \n",
       "approx_payout_date  1.334221e+09  1.355805e+09  1.370646e+09  1.523488e+09  \n",
       "body_length         7.500000e+02  1.990000e+03  4.280000e+03  6.553500e+04  \n",
       "channels            5.000000e+00  6.000000e+00  8.000000e+00  1.300000e+01  \n",
       "delivery_method     0.000000e+00  0.000000e+00  1.000000e+00  3.000000e+00  \n",
       "event_created       1.329754e+09  1.351043e+09  1.365346e+09  1.382012e+09  \n",
       "event_end           1.333789e+09  1.355373e+09  1.370214e+09  1.523056e+09  \n",
       "event_published     1.329499e+09  1.351099e+09  1.365478e+09  1.381608e+09  \n",
       "event_start         1.333406e+09  1.355000e+09  1.370048e+09  1.418850e+09  \n",
       "fb_published        0.000000e+00  0.000000e+00  0.000000e+00  1.000000e+00  \n",
       "gts                 1.164100e+02  4.319300e+02  1.547260e+03  3.062939e+05  \n",
       "has_analytics       0.000000e+00  0.000000e+00  0.000000e+00  1.000000e+00  \n",
       "has_header          0.000000e+00  0.000000e+00  0.000000e+00  1.000000e+00  \n",
       "has_logo            1.000000e+00  1.000000e+00  1.000000e+00  1.000000e+00  \n",
       "name_length         2.600000e+01  3.800000e+01  5.300000e+01  2.540000e+02  \n",
       "num_order           2.000000e+00  8.000000e+00  2.300000e+01  2.000000e+03  \n",
       "num_payouts         0.000000e+00  2.000000e+00  1.300000e+01  1.858000e+03  \n",
       "object_id           2.902989e+06  4.580386e+06  6.073577e+06  8.792893e+06  \n",
       "org_facebook        0.000000e+00  0.000000e+00  1.400000e+01  9.100000e+01  \n",
       "org_twitter         0.000000e+00  0.000000e+00  1.100000e+01  3.400000e+01  \n",
       "sale_duration       1.600000e+01  3.200000e+01  5.900000e+01  9.800000e+02  \n",
       "sale_duration2      1.700000e+01  3.500000e+01  6.300000e+01  9.800000e+02  \n",
       "show_map            1.000000e+00  1.000000e+00  1.000000e+00  1.000000e+00  \n",
       "user_age            1.300000e+01  2.420000e+02  6.030000e+02  3.794000e+03  \n",
       "user_created        1.286824e+09  1.316636e+09  1.346790e+09  1.381543e+09  \n",
       "user_type           1.000000e+00  3.000000e+00  3.000000e+00  1.030000e+02  \n",
       "venue_latitude      3.395934e+01  3.997410e+01  4.485704e+01  6.484402e+01  \n",
       "venue_longitude    -9.695783e+01 -7.942558e+01 -3.187449e+00  1.761695e+02  "
      ]
     },
     "execution_count": 34,
     "metadata": {},
     "output_type": "execute_result"
    }
   ],
   "source": [
    "ndf[num].describe().T"
   ]
  },
  {
   "cell_type": "code",
   "execution_count": 35,
   "metadata": {
    "collapsed": true
   },
   "outputs": [],
   "source": [
    "'''\n",
    "Now look at columns with texts.\n",
    "'''\n",
    "obj = [col for col in df.columns if col not in num]"
   ]
  },
  {
   "cell_type": "code",
   "execution_count": 36,
   "metadata": {
    "collapsed": false
   },
   "outputs": [
    {
     "data": {
      "text/plain": [
       "18"
      ]
     },
     "execution_count": 36,
     "metadata": {},
     "output_type": "execute_result"
    }
   ],
   "source": [
    "len(obj)"
   ]
  },
  {
   "cell_type": "code",
   "execution_count": 37,
   "metadata": {
    "collapsed": false,
    "scrolled": true
   },
   "outputs": [
    {
     "data": {
      "text/plain": [
       "[u'acct_type',\n",
       " u'country',\n",
       " u'currency',\n",
       " u'description',\n",
       " u'email_domain',\n",
       " u'listed',\n",
       " u'name',\n",
       " u'org_desc',\n",
       " u'org_name',\n",
       " u'payee_name',\n",
       " u'payout_type',\n",
       " u'previous_payouts',\n",
       " u'ticket_types',\n",
       " u'venue_address',\n",
       " u'venue_country',\n",
       " u'venue_name',\n",
       " u'venue_state',\n",
       " 'label']"
      ]
     },
     "execution_count": 37,
     "metadata": {},
     "output_type": "execute_result"
    }
   ],
   "source": [
    "obj"
   ]
  },
  {
   "cell_type": "code",
   "execution_count": 38,
   "metadata": {
    "collapsed": false
   },
   "outputs": [],
   "source": [
    "'''\n",
    "Look for unique values.\n",
    "'''\n",
    "uni = {}\n",
    "for col in obj:\n",
    "    if col not in ['previous_payouts','ticket_types']:\n",
    "        uni[col] = len(df[col].unique())"
   ]
  },
  {
   "cell_type": "code",
   "execution_count": 39,
   "metadata": {
    "collapsed": false
   },
   "outputs": [
    {
     "data": {
      "text/plain": [
       "{u'acct_type': 12,\n",
       " u'country': 73,\n",
       " u'currency': 7,\n",
       " u'description': 13095,\n",
       " u'email_domain': 5772,\n",
       " 'label': 2,\n",
       " u'listed': 2,\n",
       " u'name': 13940,\n",
       " u'org_desc': 5845,\n",
       " u'org_name': 9501,\n",
       " u'payee_name': 2481,\n",
       " u'payout_type': 3,\n",
       " u'venue_address': 10142,\n",
       " u'venue_country': 70,\n",
       " u'venue_name': 9788,\n",
       " u'venue_state': 443}"
      ]
     },
     "execution_count": 39,
     "metadata": {},
     "output_type": "execute_result"
    }
   ],
   "source": [
    "uni"
   ]
  },
  {
   "cell_type": "code",
   "execution_count": 45,
   "metadata": {
    "collapsed": false,
    "scrolled": true
   },
   "outputs": [],
   "source": [
    "'''\n",
    "Focus on description, use beautiful soup to parse the information.\n",
    "'''\n",
    "html_doc = df['description']"
   ]
  },
  {
   "cell_type": "code",
   "execution_count": 46,
   "metadata": {
    "collapsed": false
   },
   "outputs": [
    {
     "data": {
      "text/plain": [
       "u'<p><a href=\"http://s432.photobucket.com/albums/qq49/digusonline/?action=view&amp;current=supersunday.jpg\" target=\"_blank\"><img src=\"http://i432.photobucket.com/albums/qq49/digusonline/supersunday.jpg\" border=\"0\" alt=\"Photobucket\" /></a></p>\\r\\n<p>\\xa0</p>\\r\\n<p style=\"text-align: center;\"><font size=\"3\"><strong>Party Starz Entertaintment &amp; Diverse International Group Presents...<br /></strong></font><br /><font face=\"tahoma,arial,helvetica,sans-serif\" size=\"4\"><strong>The Official\\xa0\"99 Hour No Sleep\" Super Bowl </strong></font></p>\\r\\n<p style=\"text-align: center;\"><font face=\"tahoma,arial,helvetica,sans-serif\" size=\"4\"><strong>Weekend </strong></font><font face=\"tahoma,arial,helvetica,sans-serif\" size=\"4\"><strong>Grand Finale</strong></font></p>\\r\\n<p><br /><span style=\"font-family: Times New Roman,serif;\"><font size=\"3\"><font face=\"tahoma,arial,helvetica,sans-serif\">No matter who wins or loses, this post-game party cannot be missed! Enjoy the drink specials and all night music!<strong>\\xa0</strong></font></font><span style=\"font-family: Times New Roman,serif;\"><font face=\"tahoma,arial,helvetica,sans-serif\" size=\"3\">The ultimate \"99 No Sleep\"\\xa0Super Bowl Weekend Grand Finale! Sunday, February 7th, 2010 @ Ink Nightclub-South Beach (717 Washington Ave, Miami Bch, FL 33139).</font></span></span></p>\\r\\n<p><span style=\"font-family: Times New Roman,serif;\"><span style=\"font-family: Times New Roman,serif;\"><font face=\"tahoma,arial,helvetica,sans-serif\" size=\"3\">Hosted by 99 Jamz with special appearances by Fast Life Youngstaz. Special invited guests: Billy Blue, Dorrough and Brisco and with performances by various artist\\'s and many many more at South Beach\\xa0Miami\\'s finest venue! This is a party you have to see to believe! This is everyone\\'s last chance to make that impression, so don\\'t\\xa0half-step, bring your \"A\" game\\xa0and party with\\xa0all of the hottest artists, celebrities, models and superstar athletes that are guaranteed to be in the building!</font></span></span></p>\\r\\n<p><span style=\"font-family: Times New Roman,serif;\"><font size=\"3\"><span style=\"font-family: Times New Roman,serif;\"><font face=\"tahoma,arial,helvetica,sans-serif\">DJ Q &amp; DJ Slym will ber keepig the party jumping til the sun comes up with the hottest Hip-Hop, R&amp;B, Reggae, Old School and more. </font></span></font></span></p>\\r\\n<p><span style=\"font-family: Times New Roman,serif;\"><font size=\"3\"><span style=\"font-family: Times New Roman,serif;\"><font face=\"tahoma,arial,helvetica,sans-serif\">Doors open @ 10pm. Ladies are 18+ and 21+ for Gents. 2-4-1 drinks until 1am, plus the best bottle specials ALL NIGHT LONG!!! We\\'re offering\\xa0Super Bowl game ticket stub discounts all night!</font></span></font></span></p>\\r\\n<p><span style=\"font-family: Times New Roman,serif;\"><font size=\"3\"><span style=\"font-family: Times New Roman,serif;\"><font face=\"tahoma,arial,helvetica,sans-serif\">Dress code is\\xa0enforced, but it\\'s not what you wear but how you wear it!\\xa0All-Night Drink Specials! For more information\\xa0&amp; table reservations email</font></span></font></span><span style=\"font-family: Times New Roman,serif;\"><font size=\"3\"><span style=\"font-family: Times New Roman,serif;\"><font face=\"tahoma,arial,helvetica,sans-serif\">: <a href=\"mailto:99hrnosleepweekend@gmail.com\">99hrnosleepweekend@gmail.com</a> or 305.742.4880.</font></span></font></span></p>\\r\\n<p><span style=\"font-family: Times New Roman,serif;\"></span></p>\\r\\n<p>\\xa0</p>\\r\\n<p style=\"text-align: center;\"><span style=\"font-family: Times New Roman,serif;\"><font size=\"3\"><span style=\"font-family: Times New Roman,serif;\"><font face=\"tahoma,arial,helvetica,sans-serif\">This is a 99 Hour No Sleep Celebrity Super Bowl Weekend event! <a \\r\\n<p>\\xa0</p>'"
      ]
     },
     "execution_count": 46,
     "metadata": {},
     "output_type": "execute_result"
    }
   ],
   "source": [
    "html_doc[0]"
   ]
  },
  {
   "cell_type": "code",
   "execution_count": 47,
   "metadata": {
    "collapsed": false
   },
   "outputs": [],
   "source": [
    "soup = BeautifulSoup(html_doc[0], 'html.parser')"
   ]
  },
  {
   "cell_type": "code",
   "execution_count": 48,
   "metadata": {
    "collapsed": false
   },
   "outputs": [
    {
     "name": "stdout",
     "output_type": "stream",
     "text": [
      "<p>\n",
      " <a href=\"http://s432.photobucket.com/albums/qq49/digusonline/?action=view&amp;current=supersunday.jpg\" target=\"_blank\">\n",
      "  <img alt=\"Photobucket\" border=\"0\" src=\"http://i432.photobucket.com/albums/qq49/digusonline/supersunday.jpg\"/>\n",
      " </a>\n",
      "</p>\n",
      "<p>\n",
      "</p>\n",
      "<p style=\"text-align: center;\">\n",
      " <font size=\"3\">\n",
      "  <strong>\n",
      "   Party Starz Entertaintment &amp; Diverse International Group Presents...\n",
      "   <br/>\n",
      "  </strong>\n",
      " </font>\n",
      " <br/>\n",
      " <font face=\"tahoma,arial,helvetica,sans-serif\" size=\"4\">\n",
      "  <strong>\n",
      "   The Official \"99 Hour No Sleep\" Super Bowl\n",
      "  </strong>\n",
      " </font>\n",
      "</p>\n",
      "<p style=\"text-align: center;\">\n",
      " <font face=\"tahoma,arial,helvetica,sans-serif\" size=\"4\">\n",
      "  <strong>\n",
      "   Weekend\n",
      "  </strong>\n",
      " </font>\n",
      " <font face=\"tahoma,arial,helvetica,sans-serif\" size=\"4\">\n",
      "  <strong>\n",
      "   Grand Finale\n",
      "  </strong>\n",
      " </font>\n",
      "</p>\n",
      "<p>\n",
      " <br/>\n",
      " <span style=\"font-family: Times New Roman,serif;\">\n",
      "  <font size=\"3\">\n",
      "   <font face=\"tahoma,arial,helvetica,sans-serif\">\n",
      "    No matter who wins or loses, this post-game party cannot be missed! Enjoy the drink specials and all night music!\n",
      "    <strong>\n",
      "    </strong>\n",
      "   </font>\n",
      "  </font>\n",
      "  <span style=\"font-family: Times New Roman,serif;\">\n",
      "   <font face=\"tahoma,arial,helvetica,sans-serif\" size=\"3\">\n",
      "    The ultimate \"99 No Sleep\" Super Bowl Weekend Grand Finale! Sunday, February 7th, 2010 @ Ink Nightclub-South Beach (717 Washington Ave, Miami Bch, FL 33139).\n",
      "   </font>\n",
      "  </span>\n",
      " </span>\n",
      "</p>\n",
      "<p>\n",
      " <span style=\"font-family: Times New Roman,serif;\">\n",
      "  <span style=\"font-family: Times New Roman,serif;\">\n",
      "   <font face=\"tahoma,arial,helvetica,sans-serif\" size=\"3\">\n",
      "    Hosted by 99 Jamz with special appearances by Fast Life Youngstaz. Special invited guests: Billy Blue, Dorrough and Brisco and with performances by various artist's and many many more at South Beach Miami's finest venue! This is a party you have to see to believe! This is everyone's last chance to make that impression, so don't half-step, bring your \"A\" game and party with all of the hottest artists, celebrities, models and superstar athletes that are guaranteed to be in the building!\n",
      "   </font>\n",
      "  </span>\n",
      " </span>\n",
      "</p>\n",
      "<p>\n",
      " <span style=\"font-family: Times New Roman,serif;\">\n",
      "  <font size=\"3\">\n",
      "   <span style=\"font-family: Times New Roman,serif;\">\n",
      "    <font face=\"tahoma,arial,helvetica,sans-serif\">\n",
      "     DJ Q &amp; DJ Slym will ber keepig the party jumping til the sun comes up with the hottest Hip-Hop, R&amp;B, Reggae, Old School and more.\n",
      "    </font>\n",
      "   </span>\n",
      "  </font>\n",
      " </span>\n",
      "</p>\n",
      "<p>\n",
      " <span style=\"font-family: Times New Roman,serif;\">\n",
      "  <font size=\"3\">\n",
      "   <span style=\"font-family: Times New Roman,serif;\">\n",
      "    <font face=\"tahoma,arial,helvetica,sans-serif\">\n",
      "     Doors open @ 10pm. Ladies are 18+ and 21+ for Gents. 2-4-1 drinks until 1am, plus the best bottle specials ALL NIGHT LONG!!! We're offering Super Bowl game ticket stub discounts all night!\n",
      "    </font>\n",
      "   </span>\n",
      "  </font>\n",
      " </span>\n",
      "</p>\n",
      "<p>\n",
      " <span style=\"font-family: Times New Roman,serif;\">\n",
      "  <font size=\"3\">\n",
      "   <span style=\"font-family: Times New Roman,serif;\">\n",
      "    <font face=\"tahoma,arial,helvetica,sans-serif\">\n",
      "     Dress code is enforced, but it's not what you wear but how you wear it! All-Night Drink Specials! For more information &amp; table reservations email\n",
      "    </font>\n",
      "   </span>\n",
      "  </font>\n",
      " </span>\n",
      " <span style=\"font-family: Times New Roman,serif;\">\n",
      "  <font size=\"3\">\n",
      "   <span style=\"font-family: Times New Roman,serif;\">\n",
      "    <font face=\"tahoma,arial,helvetica,sans-serif\">\n",
      "     :\n",
      "     <a href=\"mailto:99hrnosleepweekend@gmail.com\">\n",
      "      99hrnosleepweekend@gmail.com\n",
      "     </a>\n",
      "     or 305.742.4880.\n",
      "    </font>\n",
      "   </span>\n",
      "  </font>\n",
      " </span>\n",
      "</p>\n",
      "<p>\n",
      " <span style=\"font-family: Times New Roman,serif;\">\n",
      " </span>\n",
      "</p>\n",
      "<p>\n",
      "</p>\n",
      "<p style=\"text-align: center;\">\n",
      " <span style=\"font-family: Times New Roman,serif;\">\n",
      "  <font size=\"3\">\n",
      "   <span style=\"font-family: Times New Roman,serif;\">\n",
      "    <font face=\"tahoma,arial,helvetica,sans-serif\">\n",
      "     This is a 99 Hour No Sleep Celebrity Super Bowl Weekend event!\n",
      "     <a <p=\"\">\n",
      "     </a>\n",
      "    </font>\n",
      "   </span>\n",
      "  </font>\n",
      " </span>\n",
      "</p>\n"
     ]
    }
   ],
   "source": [
    "print(soup.prettify())"
   ]
  },
  {
   "cell_type": "code",
   "execution_count": 49,
   "metadata": {
    "collapsed": false
   },
   "outputs": [
    {
     "name": "stdout",
     "output_type": "stream",
     "text": [
      "<p>\n",
      " Join us for a quick, one-night, community-building trip to Charleston, SC.\n",
      "</p>\n",
      "<p>\n",
      " <strong>\n",
      "  COST:\n",
      " </strong>\n",
      "</p>\n",
      "<p>\n",
      " The trip costs a total of $35, which includes breakfast and lunch on Saturday and housing. You will be responsible to pay for your own dinner on Friday and Saturday. Early Bird tickets are available until noon on January 20 and include a great Winter Getaway T-Shirt. So don't wait to register!\n",
      "</p>\n",
      "<p>\n",
      " Registration ends at noon on January 27.\n",
      "</p>\n",
      "<p>\n",
      " A\n",
      " <em>\n",
      "  very limited number\n",
      " </em>\n",
      " of scholarships are available. Contact your campus minister as soon as possible to see if you qualify.\n",
      "</p>\n",
      "<p>\n",
      " <strong>\n",
      "  TRANSPORTATION:\n",
      " </strong>\n",
      "</p>\n",
      "<p>\n",
      " We are working to secure two fifteen passenger buses, which will be filled on a first-come, first-served basis. Payment must be received before a slot on a bus can be reserved. You will be responsible for your own transportation if a bus slot is not available.\n",
      "</p>\n",
      "<p>\n",
      " <strong>\n",
      "  WHAT TO BRING:\n",
      " </strong>\n",
      "</p>\n",
      "<p>\n",
      " We will be staying in the gym of\n",
      " <a href=\"http://www.metronorthpca.org/\">\n",
      "  Metro North Presbyterian Church\n",
      " </a>\n",
      " in Goose Creek, SC, and showering (maybe) at various members homes. You will want to bring an air mattress, sleeping bag, towel, and anything else you might need to get a good nights sleep on a cold gym floor.\n",
      "</p>\n",
      "<p>\n",
      " You will also need to bring money for dinner on Friday and Saturday night.\n",
      "</p>\n",
      "<p>\n",
      " <strong>\n",
      "  WHAT WE'RE DOING:\n",
      " </strong>\n",
      "</p>\n",
      "<p>\n",
      " Here is our general (and tentative) itinerary:\n",
      "</p>\n",
      "<p>\n",
      " <span style=\"text-decoration: underline;\">\n",
      "  Friday\n",
      " </span>\n",
      "</p>\n",
      "<p>\n",
      " 3pm - Leave from the Dinkins Parking Lot at Winthrop University\n",
      " <br/>\n",
      " 6pm - Arrive at Metro North Church and drop off belongings\n",
      " <br/>\n",
      " 8pm - Eat dinner in downtown Charleston, hang out\n",
      " <br/>\n",
      " 11pm - Return to Metro North, sleep\n",
      "</p>\n",
      "<p>\n",
      " <span style=\"text-decoration: underline;\">\n",
      "  Saturday\n",
      " </span>\n",
      "</p>\n",
      "<p>\n",
      " 9am - Breakfast\n",
      " <br/>\n",
      " 10am - Seminar on Faith in Life\n",
      " <br/>\n",
      " 11am - Pack, clean up, load up\n",
      " <br/>\n",
      " noon - Lunch\n",
      " <br/>\n",
      " 1pm - Head to the beach\n",
      " <br/>\n",
      " 5pm - Head back to downtown Charleston (dinner on your own)\n",
      " <br/>\n",
      " 9pm - Leave for Rock Hill\n",
      " <br/>\n",
      " midnight - Arrive in home\n",
      "</p>\n",
      "<p>\n",
      " <strong>\n",
      "  WAIVERS\n",
      " </strong>\n",
      "</p>\n",
      "<p>\n",
      " By registering for this conference, you hereby acknowledge your agreement to the following waivers:\n",
      "</p>\n",
      "<p>\n",
      " <span style=\"text-decoration: underline;\">\n",
      "  Emergency Waiver\n",
      " </span>\n",
      "</p>\n",
      "<p>\n",
      " I the attendee hereby authorize the staff of Reformed University Fellowship at Winthrop to act as my agent to consent to medical, surgical, or dental examination and/or treatment. In case of emergency, I hereby authorize treatment and/or care at any hospital.\n",
      "</p>\n",
      "<p>\n",
      " <span style=\"text-decoration: underline;\">\n",
      "  Insurance and Liability Waiver\n",
      " </span>\n",
      "</p>\n",
      "<p>\n",
      " <span>\n",
      "  In consideration of my being allowed to participate in the Winthrop RUF Winter Getaway, I hereby assume all risks involved in my participation in this event. I understand that I will be responsible for any medical expenses for myself and waive any legal right or claim I or my family might have against Reformed University Fellowship/Ministries, its staff, or Board of Directors, as a result of any injury incurred or death by participation in activities or travel to or from the 2011 Winter Getaway. I agree that the foregoing insurance and liability waiver agreement is intended to be as broad and inclusive as is permitted by law in the State/Province in which the event is conducted and that if any portion thereof is held invalid it is agreed that the balance shall continue in full force and effect.\n",
      " </span>\n",
      "</p>\n"
     ]
    }
   ],
   "source": [
    "soup1 = BeautifulSoup(html_doc[1], 'html.parser')\n",
    "print(soup1.prettify())"
   ]
  }
 ],
 "metadata": {
  "kernelspec": {
   "display_name": "Python 2",
   "language": "python",
   "name": "python2"
  },
  "language_info": {
   "codemirror_mode": {
    "name": "ipython",
    "version": 2
   },
   "file_extension": ".py",
   "mimetype": "text/x-python",
   "name": "python",
   "nbconvert_exporter": "python",
   "pygments_lexer": "ipython2",
   "version": "2.7.13"
  }
 },
 "nbformat": 4,
 "nbformat_minor": 2
}
